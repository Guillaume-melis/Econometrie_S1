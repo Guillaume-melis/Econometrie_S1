{
 "cells": [
  {
   "cell_type": "code",
   "execution_count": 1,
   "id": "44e0cfb7",
   "metadata": {},
   "outputs": [],
   "source": [
    "import yfinance as yf\n",
    "import pandas as pd \n",
    "import numpy as np"
   ]
  },
  {
   "cell_type": "code",
   "execution_count": 22,
   "id": "1c44176a",
   "metadata": {},
   "outputs": [
    {
     "name": "stderr",
     "output_type": "stream",
     "text": [
      "/var/folders/nk/kpj6413n2lj1cln9c1z0_pj80000gn/T/ipykernel_3899/97500509.py:10: FutureWarning: YF.download() has changed argument auto_adjust default to True\n",
      "  df = yf.download(ticker, start=start_date, end=end_date)\n",
      "[*********************100%***********************]  1 of 1 completed\n",
      "/var/folders/nk/kpj6413n2lj1cln9c1z0_pj80000gn/T/ipykernel_3899/97500509.py:10: FutureWarning: YF.download() has changed argument auto_adjust default to True\n",
      "  df = yf.download(ticker, start=start_date, end=end_date)\n",
      "[*********************100%***********************]  1 of 1 completed\n"
     ]
    }
   ],
   "source": [
    "tickers = {\"S&P500\": \"^GSPC\", \"CAC40\": \"^FCHI\"}\n",
    "start_date = \"2015-01-01\"\n",
    "end_date = \"2024-12-31\"\n",
    "\n",
    "\n",
    "# DataFrame vide avec l'index correspondant aux dates\n",
    "df_prices = pd.DataFrame()\n",
    "\n",
    "for name, ticker in tickers.items():\n",
    "    df = yf.download(ticker, start=start_date, end=end_date)\n",
    "    # Ajouter la colonne Close avec le nom du marché\n",
    "    df_prices[name] = df['Close']"
   ]
  },
  {
   "cell_type": "code",
   "execution_count": 23,
   "id": "7ac17a31",
   "metadata": {},
   "outputs": [
    {
     "data": {
      "application/vnd.microsoft.datawrangler.viewer.v0+json": {
       "columns": [
        {
         "name": "Date",
         "rawType": "datetime64[ns]",
         "type": "datetime"
        },
        {
         "name": "S&P500",
         "rawType": "float64",
         "type": "float"
        },
        {
         "name": "CAC40",
         "rawType": "float64",
         "type": "float"
        }
       ],
       "ref": "4bf619c8-d0e2-4f48-af56-e1e265b0551e",
       "rows": [
        [
         "2015-01-02 00:00:00",
         "2058.199951171875",
         "4252.2900390625"
        ],
        [
         "2015-01-05 00:00:00",
         "2020.5799560546875",
         "4111.35986328125"
        ],
        [
         "2015-01-06 00:00:00",
         "2002.6099853515625",
         "4083.5"
        ],
        [
         "2015-01-07 00:00:00",
         "2025.9000244140625",
         "4112.72998046875"
        ],
        [
         "2015-01-08 00:00:00",
         "2062.139892578125",
         "4260.18994140625"
        ],
        [
         "2015-01-09 00:00:00",
         "2044.81005859375",
         "4179.06982421875"
        ],
        [
         "2015-01-12 00:00:00",
         "2028.260009765625",
         "4228.240234375"
        ],
        [
         "2015-01-13 00:00:00",
         "2023.030029296875",
         "4290.27978515625"
        ],
        [
         "2015-01-14 00:00:00",
         "2011.27001953125",
         "4223.240234375"
        ],
        [
         "2015-01-15 00:00:00",
         "1992.6700439453125",
         "4323.2001953125"
        ],
        [
         "2015-01-16 00:00:00",
         "2019.4200439453125",
         "4379.6201171875"
        ],
        [
         "2015-01-20 00:00:00",
         "2022.550048828125",
         "4446.02001953125"
        ],
        [
         "2015-01-21 00:00:00",
         "2032.1199951171875",
         "4484.81982421875"
        ],
        [
         "2015-01-22 00:00:00",
         "2063.14990234375",
         "4552.7998046875"
        ],
        [
         "2015-01-23 00:00:00",
         "2051.820068359375",
         "4640.68994140625"
        ],
        [
         "2015-01-26 00:00:00",
         "2057.090087890625",
         "4675.1298828125"
        ],
        [
         "2015-01-27 00:00:00",
         "2029.550048828125",
         "4624.2099609375"
        ],
        [
         "2015-01-28 00:00:00",
         "2002.1600341796875",
         "4610.93994140625"
        ],
        [
         "2015-01-29 00:00:00",
         "2021.25",
         "4631.43017578125"
        ],
        [
         "2015-01-30 00:00:00",
         "1994.989990234375",
         "4604.25"
        ],
        [
         "2015-02-02 00:00:00",
         "2020.8499755859375",
         "4627.669921875"
        ],
        [
         "2015-02-03 00:00:00",
         "2050.030029296875",
         "4677.89990234375"
        ],
        [
         "2015-02-04 00:00:00",
         "2041.510009765625",
         "4696.2998046875"
        ],
        [
         "2015-02-05 00:00:00",
         "2062.52001953125",
         "4703.2998046875"
        ],
        [
         "2015-02-06 00:00:00",
         "2055.469970703125",
         "4691.02978515625"
        ],
        [
         "2015-02-09 00:00:00",
         "2046.739990234375",
         "4651.080078125"
        ],
        [
         "2015-02-10 00:00:00",
         "2068.590087890625",
         "4695.64990234375"
        ],
        [
         "2015-02-11 00:00:00",
         "2068.530029296875",
         "4679.3798828125"
        ],
        [
         "2015-02-12 00:00:00",
         "2088.47998046875",
         "4726.2001953125"
        ],
        [
         "2015-02-13 00:00:00",
         "2096.989990234375",
         "4759.35986328125"
        ],
        [
         "2015-02-17 00:00:00",
         "2100.340087890625",
         "4753.990234375"
        ],
        [
         "2015-02-18 00:00:00",
         "2099.679931640625",
         "4799.02978515625"
        ],
        [
         "2015-02-19 00:00:00",
         "2097.449951171875",
         "4833.27978515625"
        ],
        [
         "2015-02-20 00:00:00",
         "2110.300048828125",
         "4830.89990234375"
        ],
        [
         "2015-02-23 00:00:00",
         "2109.659912109375",
         "4862.2998046875"
        ],
        [
         "2015-02-24 00:00:00",
         "2115.47998046875",
         "4886.43994140625"
        ],
        [
         "2015-02-25 00:00:00",
         "2113.860107421875",
         "4882.22021484375"
        ],
        [
         "2015-02-26 00:00:00",
         "2110.739990234375",
         "4910.6201171875"
        ],
        [
         "2015-02-27 00:00:00",
         "2104.5",
         "4951.47998046875"
        ],
        [
         "2015-03-02 00:00:00",
         "2117.389892578125",
         "4917.31982421875"
        ],
        [
         "2015-03-03 00:00:00",
         "2107.780029296875",
         "4869.25"
        ],
        [
         "2015-03-04 00:00:00",
         "2098.530029296875",
         "4917.35009765625"
        ],
        [
         "2015-03-05 00:00:00",
         "2101.0400390625",
         "4963.509765625"
        ],
        [
         "2015-03-06 00:00:00",
         "2071.260009765625",
         "4964.35009765625"
        ],
        [
         "2015-03-09 00:00:00",
         "2079.429931640625",
         "4937.2001953125"
        ],
        [
         "2015-03-10 00:00:00",
         "2044.1600341796875",
         "4881.9501953125"
        ],
        [
         "2015-03-11 00:00:00",
         "2040.239990234375",
         "4997.75"
        ],
        [
         "2015-03-12 00:00:00",
         "2065.949951171875",
         "4987.330078125"
        ],
        [
         "2015-03-13 00:00:00",
         "2053.39990234375",
         "5010.4599609375"
        ],
        [
         "2015-03-16 00:00:00",
         "2081.18994140625",
         "5061.16015625"
        ]
       ],
       "shape": {
        "columns": 2,
        "rows": 2515
       }
      },
      "text/html": [
       "<div>\n",
       "<style scoped>\n",
       "    .dataframe tbody tr th:only-of-type {\n",
       "        vertical-align: middle;\n",
       "    }\n",
       "\n",
       "    .dataframe tbody tr th {\n",
       "        vertical-align: top;\n",
       "    }\n",
       "\n",
       "    .dataframe thead th {\n",
       "        text-align: right;\n",
       "    }\n",
       "</style>\n",
       "<table border=\"1\" class=\"dataframe\">\n",
       "  <thead>\n",
       "    <tr style=\"text-align: right;\">\n",
       "      <th></th>\n",
       "      <th>S&amp;P500</th>\n",
       "      <th>CAC40</th>\n",
       "    </tr>\n",
       "    <tr>\n",
       "      <th>Date</th>\n",
       "      <th></th>\n",
       "      <th></th>\n",
       "    </tr>\n",
       "  </thead>\n",
       "  <tbody>\n",
       "    <tr>\n",
       "      <th>2015-01-02</th>\n",
       "      <td>2058.199951</td>\n",
       "      <td>4252.290039</td>\n",
       "    </tr>\n",
       "    <tr>\n",
       "      <th>2015-01-05</th>\n",
       "      <td>2020.579956</td>\n",
       "      <td>4111.359863</td>\n",
       "    </tr>\n",
       "    <tr>\n",
       "      <th>2015-01-06</th>\n",
       "      <td>2002.609985</td>\n",
       "      <td>4083.500000</td>\n",
       "    </tr>\n",
       "    <tr>\n",
       "      <th>2015-01-07</th>\n",
       "      <td>2025.900024</td>\n",
       "      <td>4112.729980</td>\n",
       "    </tr>\n",
       "    <tr>\n",
       "      <th>2015-01-08</th>\n",
       "      <td>2062.139893</td>\n",
       "      <td>4260.189941</td>\n",
       "    </tr>\n",
       "    <tr>\n",
       "      <th>...</th>\n",
       "      <td>...</td>\n",
       "      <td>...</td>\n",
       "    </tr>\n",
       "    <tr>\n",
       "      <th>2024-12-23</th>\n",
       "      <td>5974.069824</td>\n",
       "      <td>7272.319824</td>\n",
       "    </tr>\n",
       "    <tr>\n",
       "      <th>2024-12-24</th>\n",
       "      <td>6040.040039</td>\n",
       "      <td>7282.689941</td>\n",
       "    </tr>\n",
       "    <tr>\n",
       "      <th>2024-12-26</th>\n",
       "      <td>6037.589844</td>\n",
       "      <td>NaN</td>\n",
       "    </tr>\n",
       "    <tr>\n",
       "      <th>2024-12-27</th>\n",
       "      <td>5970.839844</td>\n",
       "      <td>7355.370117</td>\n",
       "    </tr>\n",
       "    <tr>\n",
       "      <th>2024-12-30</th>\n",
       "      <td>5906.939941</td>\n",
       "      <td>7313.560059</td>\n",
       "    </tr>\n",
       "  </tbody>\n",
       "</table>\n",
       "<p>2515 rows × 2 columns</p>\n",
       "</div>"
      ],
      "text/plain": [
       "                 S&P500        CAC40\n",
       "Date                                \n",
       "2015-01-02  2058.199951  4252.290039\n",
       "2015-01-05  2020.579956  4111.359863\n",
       "2015-01-06  2002.609985  4083.500000\n",
       "2015-01-07  2025.900024  4112.729980\n",
       "2015-01-08  2062.139893  4260.189941\n",
       "...                 ...          ...\n",
       "2024-12-23  5974.069824  7272.319824\n",
       "2024-12-24  6040.040039  7282.689941\n",
       "2024-12-26  6037.589844          NaN\n",
       "2024-12-27  5970.839844  7355.370117\n",
       "2024-12-30  5906.939941  7313.560059\n",
       "\n",
       "[2515 rows x 2 columns]"
      ]
     },
     "execution_count": 23,
     "metadata": {},
     "output_type": "execute_result"
    }
   ],
   "source": [
    "df_prices"
   ]
  },
  {
   "cell_type": "code",
   "execution_count": 24,
   "id": "c72fb5fc",
   "metadata": {},
   "outputs": [
    {
     "name": "stdout",
     "output_type": "stream",
     "text": [
      "              S&P500     CAC40\n",
      "Date                          \n",
      "2024-12-19  0.128511  0.113099\n",
      "2024-12-20  0.133157  0.113590\n",
      "2024-12-23  0.135191  0.111834\n",
      "2024-12-24  0.140375  0.111929\n",
      "2024-12-30  0.144293  0.109235\n"
     ]
    }
   ],
   "source": [
    "# Calcul des rendements logarithmiques\n",
    "df_returns = np.log(df_prices / df_prices.shift(1)).dropna()\n",
    "\n",
    "# Volatilité réalisée sur fenêtre mobile de 20 jours\n",
    "window = 20\n",
    "df_vol = df_returns.rolling(window).std() * np.sqrt(252)\n",
    "print(df_vol.tail())"
   ]
  },
  {
   "cell_type": "code",
   "execution_count": 27,
   "id": "156d371c",
   "metadata": {},
   "outputs": [
    {
     "data": {
      "text/html": [
       "\n",
       "            <div>\n",
       "                <ins><a href=\"https://ydata.ai/register\">Upgrade to ydata-sdk</a></ins>\n",
       "                <p>\n",
       "                    Improve your data and profiling with ydata-sdk, featuring data quality scoring, redundancy detection, outlier identification, text validation, and synthetic data generation.\n",
       "                </p>\n",
       "            </div>\n",
       "            "
      ],
      "text/plain": [
       "<IPython.core.display.HTML object>"
      ]
     },
     "metadata": {},
     "output_type": "display_data"
    },
    {
     "data": {
      "application/vnd.jupyter.widget-view+json": {
       "model_id": "8a6f744b5c724da4bcbfa2518c91aba1",
       "version_major": 2,
       "version_minor": 0
      },
      "text/plain": [
       "Summarize dataset:   0%|          | 0/5 [00:00<?, ?it/s]"
      ]
     },
     "metadata": {},
     "output_type": "display_data"
    },
    {
     "name": "stderr",
     "output_type": "stream",
     "text": [
      "100%|██████████| 2/2 [00:00<00:00, 143.83it/s]\n",
      "0.00s - Debugger warning: It seems that frozen modules are being used, which may\n",
      "0.00s - make the debugger miss breakpoints. Please pass -Xfrozen_modules=off\n",
      "0.00s - to python to disable frozen modules.\n",
      "0.00s - Note: Debugging will proceed. Set PYDEVD_DISABLE_FILE_VALIDATION=1 to disable this validation.\n"
     ]
    },
    {
     "data": {
      "application/vnd.jupyter.widget-view+json": {
       "model_id": "2c78f925872c4135bafe635ffb847419",
       "version_major": 2,
       "version_minor": 0
      },
      "text/plain": [
       "Generate report structure:   0%|          | 0/1 [00:00<?, ?it/s]"
      ]
     },
     "metadata": {},
     "output_type": "display_data"
    },
    {
     "data": {
      "application/vnd.jupyter.widget-view+json": {
       "model_id": "01903fb3516f4013aa48e9c53a36dde2",
       "version_major": 2,
       "version_minor": 0
      },
      "text/plain": [
       "Render HTML:   0%|          | 0/1 [00:00<?, ?it/s]"
      ]
     },
     "metadata": {},
     "output_type": "display_data"
    },
    {
     "data": {
      "application/vnd.jupyter.widget-view+json": {
       "model_id": "eb0371ee191747719d71dca9bfb827e5",
       "version_major": 2,
       "version_minor": 0
      },
      "text/plain": [
       "Export report to file:   0%|          | 0/1 [00:00<?, ?it/s]"
      ]
     },
     "metadata": {},
     "output_type": "display_data"
    }
   ],
   "source": [
    "from ydata_profiling import ProfileReport\n",
    "\n",
    "profile = ProfileReport(df_prices, title=\"Exploration du S&P500 et CAC40\", explorative=True)\n",
    "profile.to_file(\"report.html\")"
   ]
  },
  {
   "cell_type": "code",
   "execution_count": null,
   "id": "8d3df69a",
   "metadata": {},
   "outputs": [],
   "source": []
  }
 ],
 "metadata": {
  "kernelspec": {
   "display_name": "base",
   "language": "python",
   "name": "python3"
  },
  "language_info": {
   "codemirror_mode": {
    "name": "ipython",
    "version": 3
   },
   "file_extension": ".py",
   "mimetype": "text/x-python",
   "name": "python",
   "nbconvert_exporter": "python",
   "pygments_lexer": "ipython3",
   "version": "3.13.5"
  }
 },
 "nbformat": 4,
 "nbformat_minor": 5
}
